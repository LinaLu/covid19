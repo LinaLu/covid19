{
 "cells": [
  {
   "cell_type": "code",
   "execution_count": 57,
   "id": "18743204",
   "metadata": {},
   "outputs": [],
   "source": [
    "import pandas\n",
    "import numpy as np\n",
    "from sklearn import model_selection\n",
    "from sklearn.linear_model import LogisticRegression\n",
    "from sklearn.impute import SimpleImputer\n",
    "import pickle\n",
    "\n",
    "NUMBER_OF_FEATURES = 8"
   ]
  },
  {
   "cell_type": "code",
   "execution_count": 54,
   "id": "966186f2",
   "metadata": {},
   "outputs": [],
   "source": [
    "url = \"mexico_covid19.csv\"\n",
    "names = [\"Gender\",\"Neumonia\",\"Age\",\"Pregnant\",\"Diabetes\",\"Astma\",\"ImmunoSuppressed\",\"Hypertension\",\"Cardiovascular\",\"Obese\",\"Smoking\",\"PatientOutcome\"]\n",
    "dtypes = {'Gender': 'int', 'Neumonia': 'int', 'Age': 'int', 'Pregnant':'Int64', 'Diabetes':'int', 'Astma':'int', \n",
    "          'ImmunoSuppressed':'int', 'Hypertension': 'int', 'Cardiovascular': 'int', 'Obese': 'int', \n",
    "          'Smoking': 'int', 'PatientOutcome': 'int'}\n",
    "\n",
    "data = pandas.read_csv(url, names=names, dtype=dtypes, header=1, keep_default_na=False, na_values=['NA'])\n"
   ]
  },
  {
   "cell_type": "code",
   "execution_count": 55,
   "id": "0d91724b",
   "metadata": {},
   "outputs": [],
   "source": [
    "imr = SimpleImputer(missing_values=np.nan, strategy='median')\n",
    "imr = imr.fit(data[['Pregnant']])\n",
    "data['Pregnant'] = imr.transform(data[['Pregnant']]).ravel()"
   ]
  },
  {
   "cell_type": "code",
   "execution_count": 58,
   "id": "9ae2852e",
   "metadata": {},
   "outputs": [
    {
     "data": {
      "text/plain": [
       "Index(['Neumonia', 'Age', 'Pregnant', 'Diabetes', 'Astma', 'ImmunoSuppressed',\n",
       "       'Hypertension', 'Obese', 'PatientOutcome'],\n",
       "      dtype='object')"
      ]
     },
     "execution_count": 58,
     "metadata": {},
     "output_type": "execute_result"
    }
   ],
   "source": [
    "y = data['PatientOutcome']\n",
    "X = data.drop('PatientOutcome', axis=1)\n",
    "\n",
    "from sklearn.feature_selection import SelectKBest, mutual_info_regression\n",
    "\n",
    "selector = SelectKBest(mutual_info_regression, k = NUMBER_OF_FEATURES)\n",
    "selector.fit(X, y)\n",
    "columns = data.columns[np.append(selector.get_support(), True)]\n",
    "columns"
   ]
  },
  {
   "cell_type": "code",
   "execution_count": 59,
   "id": "fe08bb3c",
   "metadata": {},
   "outputs": [
    {
     "data": {
      "text/plain": [
       "LogisticRegression()"
      ]
     },
     "execution_count": 59,
     "metadata": {},
     "output_type": "execute_result"
    }
   ],
   "source": [
    "array = data[columns].values\n",
    "\n",
    "x = array[:, 0:NUMBER_OF_FEATURES]\n",
    "y = array[:, NUMBER_OF_FEATURES]\n",
    "test_size = 0.33\n",
    "seed = 7\n",
    "\n",
    "x_train, x_test, y_train, y_test = model_selection.train_test_split(x, y, test_size=test_size, random_state=seed)\n",
    "\n",
    "model = LogisticRegression()\n",
    "model.fit(x_train, y_train)"
   ]
  },
  {
   "cell_type": "code",
   "execution_count": 60,
   "id": "2edabb49",
   "metadata": {},
   "outputs": [],
   "source": [
    "filename = 'covid19_model_v1.sav'\n",
    "pickle.dump(model, open(filename, 'wb'))"
   ]
  },
  {
   "cell_type": "code",
   "execution_count": null,
   "id": "a13da59e",
   "metadata": {},
   "outputs": [],
   "source": []
  }
 ],
 "metadata": {
  "kernelspec": {
   "display_name": "Python 3 (ipykernel)",
   "language": "python",
   "name": "python3"
  },
  "language_info": {
   "codemirror_mode": {
    "name": "ipython",
    "version": 3
   },
   "file_extension": ".py",
   "mimetype": "text/x-python",
   "name": "python",
   "nbconvert_exporter": "python",
   "pygments_lexer": "ipython3",
   "version": "3.8.2"
  }
 },
 "nbformat": 4,
 "nbformat_minor": 5
}
