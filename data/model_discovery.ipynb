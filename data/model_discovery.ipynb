{
 "cells": [
  {
   "cell_type": "code",
   "execution_count": 67,
   "id": "18743204",
   "metadata": {},
   "outputs": [],
   "source": [
    "import pandas\n",
    "import numpy as np\n",
    "from sklearn import model_selection\n",
    "from sklearn.linear_model import LogisticRegression\n",
    "from sklearn.impute import SimpleImputer\n",
    "import pickle\n",
    "import seaborn as sn\n",
    "import matplotlib.pyplot as plt\n",
    "\n",
    "NUMBER_OF_FEATURES = 8"
   ]
  },
  {
   "cell_type": "code",
   "execution_count": 68,
   "id": "966186f2",
   "metadata": {},
   "outputs": [],
   "source": [
    "url = \"mexico_covid19.csv\"\n",
    "names = [\"Gender\",\"Neumonia\",\"Age\",\"Pregnant\",\"Diabetes\",\"Astma\",\"ImmunoSuppressed\",\"Hypertension\",\"Cardiovascular\",\"Obese\",\"Smoking\",\"PatientOutcome\"]\n",
    "dtypes = {'Gender': 'int', 'Neumonia': 'int', 'Age': 'int', 'Pregnant':'Int64', 'Diabetes':'int', 'Astma':'int', \n",
    "          'ImmunoSuppressed':'int', 'Hypertension': 'int', 'Cardiovascular': 'int', 'Obese': 'int', \n",
    "          'Smoking': 'int', 'PatientOutcome': 'int'}\n",
    "\n",
    "data = pandas.read_csv(url, names=names, dtype=dtypes, header=1, keep_default_na=False, na_values=['NA'])\n"
   ]
  },
  {
   "cell_type": "code",
   "execution_count": 75,
   "id": "0d91724b",
   "metadata": {},
   "outputs": [
    {
     "data": {
      "text/plain": [
       "Index(['Gender', 'Neumonia', 'Age', 'Pregnant', 'Diabetes', 'Astma',\n",
       "       'ImmunoSuppressed', 'Hypertension', 'Cardiovascular', 'Obese',\n",
       "       'Smoking', 'PatientOutcome'],\n",
       "      dtype='object')"
      ]
     },
     "execution_count": 75,
     "metadata": {},
     "output_type": "execute_result"
    }
   ],
   "source": [
    "imr = SimpleImputer(missing_values=np.nan, strategy='median')\n",
    "imr = imr.fit(data[['Pregnant']])\n",
    "data['Pregnant'] = imr.transform(data[['Pregnant']]).ravel()\n",
    "data.columns"
   ]
  },
  {
   "cell_type": "code",
   "execution_count": 80,
   "id": "9ae2852e",
   "metadata": {},
   "outputs": [
    {
     "data": {
      "text/plain": [
       "Index(['Gender', 'Neumonia', 'Age', 'Diabetes', 'Astma', 'Hypertension',\n",
       "       'Obese', 'Smoking', 'PatientOutcome'],\n",
       "      dtype='object')"
      ]
     },
     "execution_count": 80,
     "metadata": {},
     "output_type": "execute_result"
    }
   ],
   "source": [
    "y = data['PatientOutcome']\n",
    "X = data.drop('PatientOutcome', axis=1)\n",
    "\n",
    "from sklearn.feature_selection import SelectKBest, mutual_info_regression\n",
    "\n",
    "np.random.seed(1337)\n",
    "selector = SelectKBest(mutual_info_regression, k = NUMBER_OF_FEATURES)\n",
    "X.columns\n",
    "selector.fit(X, y)\n",
    "columns = data.columns[np.append(selector.get_support(), True)]\n",
    "columns"
   ]
  },
  {
   "cell_type": "code",
   "execution_count": 95,
   "id": "0ab5fa13",
   "metadata": {},
   "outputs": [
    {
     "name": "stdout",
     "output_type": "stream",
     "text": [
      "            Gender  Neumonia       Age     Obese\n",
      "Gender    1.000000  0.024153  0.009124  0.008476\n",
      "Neumonia  0.024153  1.000000  0.063505  0.010694\n",
      "Age       0.009124  0.063505  1.000000  0.019676\n",
      "Obese     0.008476  0.010694  0.019676  1.000000\n"
     ]
    },
    {
     "data": {
      "image/png": "[encoded data removed]",
      "text/plain": [
       "<Figure size 432x288 with 2 Axes>"
      ]
     },
     "metadata": {
      "needs_background": "light"
     },
     "output_type": "display_data"
    }
   ],
   "source": [
    "candidate = X[X.columns[selector.get_support()]]\n",
    "candidate = candidate.drop('Hypertension', axis=1)\n",
    "candidate = candidate.drop('Smoking', axis=1)\n",
    "candidate = candidate.drop('Astma', axis=1)\n",
    "candidate = candidate.drop('Diabetes', axis=1)\n",
    "\n",
    "candidate\n",
    "corrMatrix = candidate.corr()\n",
    "\n",
    "print (corrMatrix)\n",
    "sn.heatmap(corrMatrix, annot=True)\n",
    "plt.show()\n",
    "\n"
   ]
  },
  {
   "cell_type": "code",
   "execution_count": 99,
   "id": "fe08bb3c",
   "metadata": {},
   "outputs": [
    {
     "data": {
      "text/plain": [
       "Index(['Gender', 'Neumonia', 'Age', 'Obese'], dtype='object')"
      ]
     },
     "execution_count": 99,
     "metadata": {},
     "output_type": "execute_result"
    }
   ],
   "source": [
    "np.append(candidate.columns, 'PatientOutcome')\n",
    "\n",
    "array = data[np.append(candidate.columns, 'PatientOutcome')].values\n",
    "\n",
    "x = array[:, 0:4]\n",
    "y = array[:, 4]\n",
    "test_size = 0.33\n",
    "seed = 7\n",
    "\n",
    "x_train, x_test, y_train, y_test = model_selection.train_test_split(x, y, test_size=test_size, random_state=seed)\n",
    "\n",
    "model = LogisticRegression()\n",
    "model.fit(x_train, y_train)\n",
    "candidate.columns"
   ]
  },
  {
   "cell_type": "code",
   "execution_count": 98,
   "id": "2edabb49",
   "metadata": {},
   "outputs": [
    {
     "name": "stdout",
     "output_type": "stream",
     "text": [
      "done\n"
     ]
    }
   ],
   "source": [
    "filename = 'covid19_model_v2.sav'\n",
    "pickle.dump(model, open(filename, 'wb'))\n",
    "print('done')"
   ]
  },
  {
   "cell_type": "code",
   "execution_count": null,
   "id": "a13da59e",
   "metadata": {},
   "outputs": [],
   "source": [
    "\n",
    "  "
   ]
  }
 ],
 "metadata": {
  "kernelspec": {
   "display_name": "Python 3 (ipykernel)",
   "language": "python",
   "name": "python3"
  },
  "language_info": {
   "codemirror_mode": {
    "name": "ipython",
    "version": 3
   },
   "file_extension": ".py",
   "mimetype": "text/x-python",
   "name": "python",
   "nbconvert_exporter": "python",
   "pygments_lexer": "ipython3",
   "version": "3.9.7"
  }
 },
 "nbformat": 4,
 "nbformat_minor": 5
}
